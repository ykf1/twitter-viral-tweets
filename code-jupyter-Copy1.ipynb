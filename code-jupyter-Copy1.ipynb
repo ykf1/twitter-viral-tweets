{
 "cells": [
  {
   "cell_type": "markdown",
   "metadata": {},
   "source": [
    "### Predict if a tweet will go viral using a logistic regression model"
   ]
  },
  {
   "cell_type": "markdown",
   "metadata": {},
   "source": [
    "#### 1. Explore the data\n",
    "#### 2. Clean the data\n",
    "#### 3. Create the prediction label\n",
    "#### 4. Create the features\n",
    "#### 5. Train the prediction model\n",
    "#### 6. Test the model"
   ]
  },
  {
   "cell_type": "code",
   "execution_count": 2,
   "metadata": {},
   "outputs": [],
   "source": [
    "import pandas as pd\n",
    "import numpy as np\n",
    "import matplotlib.pyplot as plt\n",
    "import seaborn as sns"
   ]
  },
  {
   "cell_type": "code",
   "execution_count": 3,
   "metadata": {},
   "outputs": [],
   "source": [
    "filepath = 'C:\\\\Users\\\\Yeo Kheng Feng\\\\Desktop\\\\Github repositories\\\\random_tweets.json'\n",
    "tweets = pd.read_json(filepath, lines=True)"
   ]
  },
  {
   "cell_type": "markdown",
   "metadata": {},
   "source": [
    "#### Explore the data"
   ]
  },
  {
   "cell_type": "code",
   "execution_count": 4,
   "metadata": {},
   "outputs": [
    {
     "name": "stdout",
     "output_type": "stream",
     "text": [
      "<class 'pandas.core.frame.DataFrame'>\n",
      "RangeIndex: 11099 entries, 0 to 11098\n",
      "Data columns (total 31 columns):\n",
      " #   Column                     Non-Null Count  Dtype              \n",
      "---  ------                     --------------  -----              \n",
      " 0   created_at                 11099 non-null  datetime64[ns, UTC]\n",
      " 1   id                         11099 non-null  int64              \n",
      " 2   id_str                     11099 non-null  int64              \n",
      " 3   text                       11099 non-null  object             \n",
      " 4   truncated                  11099 non-null  bool               \n",
      " 5   entities                   11099 non-null  object             \n",
      " 6   metadata                   11099 non-null  object             \n",
      " 7   source                     11099 non-null  object             \n",
      " 8   in_reply_to_status_id      1402 non-null   float64            \n",
      " 9   in_reply_to_status_id_str  1402 non-null   float64            \n",
      " 10  in_reply_to_user_id        1503 non-null   float64            \n",
      " 11  in_reply_to_user_id_str    1503 non-null   float64            \n",
      " 12  in_reply_to_screen_name    1503 non-null   object             \n",
      " 13  user                       11099 non-null  object             \n",
      " 14  geo                        17 non-null     object             \n",
      " 15  coordinates                17 non-null     object             \n",
      " 16  place                      156 non-null    object             \n",
      " 17  contributors               0 non-null      float64            \n",
      " 18  retweeted_status           7372 non-null   object             \n",
      " 19  is_quote_status            11099 non-null  bool               \n",
      " 20  retweet_count              11099 non-null  int64              \n",
      " 21  favorite_count             11099 non-null  int64              \n",
      " 22  favorited                  11099 non-null  bool               \n",
      " 23  retweeted                  11099 non-null  bool               \n",
      " 24  lang                       11099 non-null  object             \n",
      " 25  possibly_sensitive         3192 non-null   float64            \n",
      " 26  quoted_status_id           1154 non-null   float64            \n",
      " 27  quoted_status_id_str       1154 non-null   float64            \n",
      " 28  extended_entities          1199 non-null   object             \n",
      " 29  quoted_status              327 non-null    object             \n",
      " 30  withheld_in_countries      2 non-null      object             \n",
      "dtypes: bool(4), datetime64[ns, UTC](1), float64(8), int64(4), object(14)\n",
      "memory usage: 2.3+ MB\n"
     ]
    }
   ],
   "source": [
    "tweets.info()"
   ]
  },
  {
   "cell_type": "code",
   "execution_count": 5,
   "metadata": {},
   "outputs": [
    {
     "data": {
      "text/html": [
       "<div>\n",
       "<style scoped>\n",
       "    .dataframe tbody tr th:only-of-type {\n",
       "        vertical-align: middle;\n",
       "    }\n",
       "\n",
       "    .dataframe tbody tr th {\n",
       "        vertical-align: top;\n",
       "    }\n",
       "\n",
       "    .dataframe thead th {\n",
       "        text-align: right;\n",
       "    }\n",
       "</style>\n",
       "<table border=\"1\" class=\"dataframe\">\n",
       "  <thead>\n",
       "    <tr style=\"text-align: right;\">\n",
       "      <th></th>\n",
       "      <th>created_at</th>\n",
       "      <th>id</th>\n",
       "      <th>id_str</th>\n",
       "      <th>text</th>\n",
       "      <th>truncated</th>\n",
       "      <th>entities</th>\n",
       "      <th>metadata</th>\n",
       "      <th>source</th>\n",
       "      <th>in_reply_to_status_id</th>\n",
       "      <th>in_reply_to_status_id_str</th>\n",
       "      <th>...</th>\n",
       "      <th>favorite_count</th>\n",
       "      <th>favorited</th>\n",
       "      <th>retweeted</th>\n",
       "      <th>lang</th>\n",
       "      <th>possibly_sensitive</th>\n",
       "      <th>quoted_status_id</th>\n",
       "      <th>quoted_status_id_str</th>\n",
       "      <th>extended_entities</th>\n",
       "      <th>quoted_status</th>\n",
       "      <th>withheld_in_countries</th>\n",
       "    </tr>\n",
       "  </thead>\n",
       "  <tbody>\n",
       "    <tr>\n",
       "      <th>0</th>\n",
       "      <td>2018-07-31 13:34:40+00:00</td>\n",
       "      <td>1024287229525598210</td>\n",
       "      <td>1024287229525598208</td>\n",
       "      <td>RT @KWWLStormTrack7: We are more than a month ...</td>\n",
       "      <td>False</td>\n",
       "      <td>{'hashtags': [], 'symbols': [], 'user_mentions...</td>\n",
       "      <td>{'iso_language_code': 'en', 'result_type': 're...</td>\n",
       "      <td>&lt;a href=\"http://twitter.com/download/android\" ...</td>\n",
       "      <td>NaN</td>\n",
       "      <td>NaN</td>\n",
       "      <td>...</td>\n",
       "      <td>0</td>\n",
       "      <td>False</td>\n",
       "      <td>False</td>\n",
       "      <td>en</td>\n",
       "      <td>NaN</td>\n",
       "      <td>NaN</td>\n",
       "      <td>NaN</td>\n",
       "      <td>NaN</td>\n",
       "      <td>NaN</td>\n",
       "      <td>NaN</td>\n",
       "    </tr>\n",
       "    <tr>\n",
       "      <th>1</th>\n",
       "      <td>2018-07-31 13:34:40+00:00</td>\n",
       "      <td>1024287229512953856</td>\n",
       "      <td>1024287229512953856</td>\n",
       "      <td>@hail_ee23 Thanks love its just the feeling of...</td>\n",
       "      <td>False</td>\n",
       "      <td>{'hashtags': [], 'symbols': [], 'user_mentions...</td>\n",
       "      <td>{'iso_language_code': 'en', 'result_type': 're...</td>\n",
       "      <td>&lt;a href=\"http://twitter.com/download/iphone\" r...</td>\n",
       "      <td>1.024128e+18</td>\n",
       "      <td>1.024128e+18</td>\n",
       "      <td>...</td>\n",
       "      <td>0</td>\n",
       "      <td>False</td>\n",
       "      <td>False</td>\n",
       "      <td>en</td>\n",
       "      <td>NaN</td>\n",
       "      <td>NaN</td>\n",
       "      <td>NaN</td>\n",
       "      <td>NaN</td>\n",
       "      <td>NaN</td>\n",
       "      <td>NaN</td>\n",
       "    </tr>\n",
       "    <tr>\n",
       "      <th>2</th>\n",
       "      <td>2018-07-31 13:34:40+00:00</td>\n",
       "      <td>1024287229504569344</td>\n",
       "      <td>1024287229504569344</td>\n",
       "      <td>RT @TransMediaWatch: Pink News has more on the...</td>\n",
       "      <td>False</td>\n",
       "      <td>{'hashtags': [], 'symbols': [], 'user_mentions...</td>\n",
       "      <td>{'iso_language_code': 'en', 'result_type': 're...</td>\n",
       "      <td>&lt;a href=\"http://twitter.com/download/iphone\" r...</td>\n",
       "      <td>NaN</td>\n",
       "      <td>NaN</td>\n",
       "      <td>...</td>\n",
       "      <td>0</td>\n",
       "      <td>False</td>\n",
       "      <td>False</td>\n",
       "      <td>en</td>\n",
       "      <td>0.0</td>\n",
       "      <td>NaN</td>\n",
       "      <td>NaN</td>\n",
       "      <td>NaN</td>\n",
       "      <td>NaN</td>\n",
       "      <td>NaN</td>\n",
       "    </tr>\n",
       "    <tr>\n",
       "      <th>3</th>\n",
       "      <td>2018-07-31 13:34:40+00:00</td>\n",
       "      <td>1024287229496029190</td>\n",
       "      <td>1024287229496029184</td>\n",
       "      <td>RT @realDonaldTrump: One of the reasons we nee...</td>\n",
       "      <td>False</td>\n",
       "      <td>{'hashtags': [], 'symbols': [], 'user_mentions...</td>\n",
       "      <td>{'iso_language_code': 'en', 'result_type': 're...</td>\n",
       "      <td>&lt;a href=\"http://twitter.com/download/android\" ...</td>\n",
       "      <td>NaN</td>\n",
       "      <td>NaN</td>\n",
       "      <td>...</td>\n",
       "      <td>0</td>\n",
       "      <td>False</td>\n",
       "      <td>False</td>\n",
       "      <td>en</td>\n",
       "      <td>NaN</td>\n",
       "      <td>NaN</td>\n",
       "      <td>NaN</td>\n",
       "      <td>NaN</td>\n",
       "      <td>NaN</td>\n",
       "      <td>NaN</td>\n",
       "    </tr>\n",
       "    <tr>\n",
       "      <th>4</th>\n",
       "      <td>2018-07-31 13:34:40+00:00</td>\n",
       "      <td>1024287229492031490</td>\n",
       "      <td>1024287229492031488</td>\n",
       "      <td>RT @First5App: This hearing of His Word doesn’...</td>\n",
       "      <td>False</td>\n",
       "      <td>{'hashtags': [], 'symbols': [], 'user_mentions...</td>\n",
       "      <td>{'iso_language_code': 'en', 'result_type': 're...</td>\n",
       "      <td>&lt;a href=\"http://twitter.com/download/iphone\" r...</td>\n",
       "      <td>NaN</td>\n",
       "      <td>NaN</td>\n",
       "      <td>...</td>\n",
       "      <td>0</td>\n",
       "      <td>False</td>\n",
       "      <td>False</td>\n",
       "      <td>en</td>\n",
       "      <td>NaN</td>\n",
       "      <td>NaN</td>\n",
       "      <td>NaN</td>\n",
       "      <td>NaN</td>\n",
       "      <td>NaN</td>\n",
       "      <td>NaN</td>\n",
       "    </tr>\n",
       "  </tbody>\n",
       "</table>\n",
       "<p>5 rows × 31 columns</p>\n",
       "</div>"
      ],
      "text/plain": [
       "                 created_at                   id               id_str  \\\n",
       "0 2018-07-31 13:34:40+00:00  1024287229525598210  1024287229525598208   \n",
       "1 2018-07-31 13:34:40+00:00  1024287229512953856  1024287229512953856   \n",
       "2 2018-07-31 13:34:40+00:00  1024287229504569344  1024287229504569344   \n",
       "3 2018-07-31 13:34:40+00:00  1024287229496029190  1024287229496029184   \n",
       "4 2018-07-31 13:34:40+00:00  1024287229492031490  1024287229492031488   \n",
       "\n",
       "                                                text  truncated  \\\n",
       "0  RT @KWWLStormTrack7: We are more than a month ...      False   \n",
       "1  @hail_ee23 Thanks love its just the feeling of...      False   \n",
       "2  RT @TransMediaWatch: Pink News has more on the...      False   \n",
       "3  RT @realDonaldTrump: One of the reasons we nee...      False   \n",
       "4  RT @First5App: This hearing of His Word doesn’...      False   \n",
       "\n",
       "                                            entities  \\\n",
       "0  {'hashtags': [], 'symbols': [], 'user_mentions...   \n",
       "1  {'hashtags': [], 'symbols': [], 'user_mentions...   \n",
       "2  {'hashtags': [], 'symbols': [], 'user_mentions...   \n",
       "3  {'hashtags': [], 'symbols': [], 'user_mentions...   \n",
       "4  {'hashtags': [], 'symbols': [], 'user_mentions...   \n",
       "\n",
       "                                            metadata  \\\n",
       "0  {'iso_language_code': 'en', 'result_type': 're...   \n",
       "1  {'iso_language_code': 'en', 'result_type': 're...   \n",
       "2  {'iso_language_code': 'en', 'result_type': 're...   \n",
       "3  {'iso_language_code': 'en', 'result_type': 're...   \n",
       "4  {'iso_language_code': 'en', 'result_type': 're...   \n",
       "\n",
       "                                              source  in_reply_to_status_id  \\\n",
       "0  <a href=\"http://twitter.com/download/android\" ...                    NaN   \n",
       "1  <a href=\"http://twitter.com/download/iphone\" r...           1.024128e+18   \n",
       "2  <a href=\"http://twitter.com/download/iphone\" r...                    NaN   \n",
       "3  <a href=\"http://twitter.com/download/android\" ...                    NaN   \n",
       "4  <a href=\"http://twitter.com/download/iphone\" r...                    NaN   \n",
       "\n",
       "   in_reply_to_status_id_str  ...  favorite_count  favorited retweeted lang  \\\n",
       "0                        NaN  ...               0      False     False   en   \n",
       "1               1.024128e+18  ...               0      False     False   en   \n",
       "2                        NaN  ...               0      False     False   en   \n",
       "3                        NaN  ...               0      False     False   en   \n",
       "4                        NaN  ...               0      False     False   en   \n",
       "\n",
       "  possibly_sensitive quoted_status_id quoted_status_id_str  extended_entities  \\\n",
       "0                NaN              NaN                  NaN                NaN   \n",
       "1                NaN              NaN                  NaN                NaN   \n",
       "2                0.0              NaN                  NaN                NaN   \n",
       "3                NaN              NaN                  NaN                NaN   \n",
       "4                NaN              NaN                  NaN                NaN   \n",
       "\n",
       "  quoted_status  withheld_in_countries  \n",
       "0           NaN                    NaN  \n",
       "1           NaN                    NaN  \n",
       "2           NaN                    NaN  \n",
       "3           NaN                    NaN  \n",
       "4           NaN                    NaN  \n",
       "\n",
       "[5 rows x 31 columns]"
      ]
     },
     "execution_count": 5,
     "metadata": {},
     "output_type": "execute_result"
    }
   ],
   "source": [
    "tweets.head()"
   ]
  },
  {
   "cell_type": "code",
   "execution_count": 6,
   "metadata": {},
   "outputs": [
    {
     "data": {
      "text/html": [
       "<div>\n",
       "<style scoped>\n",
       "    .dataframe tbody tr th:only-of-type {\n",
       "        vertical-align: middle;\n",
       "    }\n",
       "\n",
       "    .dataframe tbody tr th {\n",
       "        vertical-align: top;\n",
       "    }\n",
       "\n",
       "    .dataframe thead th {\n",
       "        text-align: right;\n",
       "    }\n",
       "</style>\n",
       "<table border=\"1\" class=\"dataframe\">\n",
       "  <thead>\n",
       "    <tr style=\"text-align: right;\">\n",
       "      <th></th>\n",
       "      <th>text</th>\n",
       "      <th>retweet_count</th>\n",
       "    </tr>\n",
       "  </thead>\n",
       "  <tbody>\n",
       "    <tr>\n",
       "      <th>0</th>\n",
       "      <td>RT @KWWLStormTrack7: We are more than a month ...</td>\n",
       "      <td>3</td>\n",
       "    </tr>\n",
       "    <tr>\n",
       "      <th>1</th>\n",
       "      <td>@hail_ee23 Thanks love its just the feeling of...</td>\n",
       "      <td>0</td>\n",
       "    </tr>\n",
       "    <tr>\n",
       "      <th>2</th>\n",
       "      <td>RT @TransMediaWatch: Pink News has more on the...</td>\n",
       "      <td>5</td>\n",
       "    </tr>\n",
       "    <tr>\n",
       "      <th>3</th>\n",
       "      <td>RT @realDonaldTrump: One of the reasons we nee...</td>\n",
       "      <td>11106</td>\n",
       "    </tr>\n",
       "    <tr>\n",
       "      <th>4</th>\n",
       "      <td>RT @First5App: This hearing of His Word doesn’...</td>\n",
       "      <td>6</td>\n",
       "    </tr>\n",
       "    <tr>\n",
       "      <th>5</th>\n",
       "      <td>RT @attackerman: This is torture: “The staff t...</td>\n",
       "      <td>195</td>\n",
       "    </tr>\n",
       "    <tr>\n",
       "      <th>6</th>\n",
       "      <td>Did a demo of our Mobile Prototyping Kit at UX...</td>\n",
       "      <td>0</td>\n",
       "    </tr>\n",
       "    <tr>\n",
       "      <th>7</th>\n",
       "      <td>RT @itstae13: Stop getting rid of your pets be...</td>\n",
       "      <td>162420</td>\n",
       "    </tr>\n",
       "  </tbody>\n",
       "</table>\n",
       "</div>"
      ],
      "text/plain": [
       "                                                text  retweet_count\n",
       "0  RT @KWWLStormTrack7: We are more than a month ...              3\n",
       "1  @hail_ee23 Thanks love its just the feeling of...              0\n",
       "2  RT @TransMediaWatch: Pink News has more on the...              5\n",
       "3  RT @realDonaldTrump: One of the reasons we nee...          11106\n",
       "4  RT @First5App: This hearing of His Word doesn’...              6\n",
       "5  RT @attackerman: This is torture: “The staff t...            195\n",
       "6  Did a demo of our Mobile Prototyping Kit at UX...              0\n",
       "7  RT @itstae13: Stop getting rid of your pets be...         162420"
      ]
     },
     "execution_count": 6,
     "metadata": {},
     "output_type": "execute_result"
    }
   ],
   "source": [
    "tweets[['text', 'retweet_count']].head(8)"
   ]
  },
  {
   "cell_type": "code",
   "execution_count": 8,
   "metadata": {},
   "outputs": [
    {
     "data": {
      "text/plain": [
       "{'id': 145388018,\n",
       " 'id_str': '145388018',\n",
       " 'name': 'Derek Wolkenhauer',\n",
       " 'screen_name': 'derekw221',\n",
       " 'location': 'Waterloo, Iowa',\n",
       " 'description': '',\n",
       " 'url': None,\n",
       " 'entities': {'description': {'urls': []}},\n",
       " 'protected': False,\n",
       " 'followers_count': 215,\n",
       " 'friends_count': 335,\n",
       " 'listed_count': 2,\n",
       " 'created_at': 'Tue May 18 21:30:10 +0000 2010',\n",
       " 'favourites_count': 3419,\n",
       " 'utc_offset': None,\n",
       " 'time_zone': None,\n",
       " 'geo_enabled': True,\n",
       " 'verified': False,\n",
       " 'statuses_count': 4475,\n",
       " 'lang': 'en',\n",
       " 'contributors_enabled': False,\n",
       " 'is_translator': False,\n",
       " 'is_translation_enabled': False,\n",
       " 'profile_background_color': '022330',\n",
       " 'profile_background_image_url': 'http://abs.twimg.com/images/themes/theme15/bg.png',\n",
       " 'profile_background_image_url_https': 'https://abs.twimg.com/images/themes/theme15/bg.png',\n",
       " 'profile_background_tile': False,\n",
       " 'profile_image_url': 'http://pbs.twimg.com/profile_images/995790590276243456/cgxRVviN_normal.jpg',\n",
       " 'profile_image_url_https': 'https://pbs.twimg.com/profile_images/995790590276243456/cgxRVviN_normal.jpg',\n",
       " 'profile_banner_url': 'https://pbs.twimg.com/profile_banners/145388018/1494937921',\n",
       " 'profile_link_color': '0084B4',\n",
       " 'profile_sidebar_border_color': 'A8C7F7',\n",
       " 'profile_sidebar_fill_color': 'C0DFEC',\n",
       " 'profile_text_color': '333333',\n",
       " 'profile_use_background_image': True,\n",
       " 'has_extended_profile': True,\n",
       " 'default_profile': False,\n",
       " 'default_profile_image': False,\n",
       " 'following': False,\n",
       " 'follow_request_sent': False,\n",
       " 'notifications': False,\n",
       " 'translator_type': 'none'}"
      ]
     },
     "execution_count": 8,
     "metadata": {},
     "output_type": "execute_result"
    }
   ],
   "source": [
    "#Print the first row of the 'user' column here, the 'user' column contains information about the user who tweeted.\n",
    "tweets.loc[0, 'user']"
   ]
  },
  {
   "cell_type": "markdown",
   "metadata": {},
   "source": [
    "#### Data cleaning"
   ]
  },
  {
   "cell_type": "code",
   "execution_count": null,
   "metadata": {},
   "outputs": [],
   "source": [
    "tweets['text'].duplicated().sum() # To identfy total number of duplicated tweets under the 'text' column"
   ]
  },
  {
   "cell_type": "code",
   "execution_count": null,
   "metadata": {},
   "outputs": [],
   "source": [
    "tweets = tweets.drop_duplicates(subset=['text'], keep='first')\n",
    "tweets['text'].duplicated().sum()"
   ]
  },
  {
   "cell_type": "code",
   "execution_count": null,
   "metadata": {},
   "outputs": [],
   "source": [
    "len(tweets) # Noticed number of rows reduced by 1,878 from 11,099 to 9,221"
   ]
  },
  {
   "cell_type": "markdown",
   "metadata": {},
   "source": [
    "#### Create the prediction label (number of retweets)"
   ]
  },
  {
   "cell_type": "code",
   "execution_count": null,
   "metadata": {},
   "outputs": [],
   "source": [
    "# Prepare the y_label (whether tweet goes viral) based on number of retweets tweet has.\n",
    "tweets['retweet_count'].sample(20)"
   ]
  },
  {
   "cell_type": "code",
   "execution_count": null,
   "metadata": {},
   "outputs": [],
   "source": [
    "# Understand the distribution of retweet_count (summary statistics)\n",
    "tweets['retweet_count'].describe()"
   ]
  },
  {
   "cell_type": "code",
   "execution_count": null,
   "metadata": {},
   "outputs": [],
   "source": [
    "# Plot a graph to analyse the distribution of retweet count\n",
    "x = tweets['retweet_count'].replace(0, 1)\n",
    "plt.figure(figsize=(10,6))\n",
    "sns.kdeplot(x, log_scale=2)"
   ]
  },
  {
   "cell_type": "markdown",
   "metadata": {},
   "source": [
    "#### Create y_label\n",
    "#### Set a retweet count of over 100 as a viral tweet (if viral set value to 1, else 0)"
   ]
  },
  {
   "cell_type": "code",
   "execution_count": null,
   "metadata": {},
   "outputs": [],
   "source": [
    "tweets['is_viral'] = np.where(tweets['retweet_count'] > 100, 1, 0)\n",
    "tweets['is_viral'].value_counts()"
   ]
  },
  {
   "cell_type": "code",
   "execution_count": null,
   "metadata": {},
   "outputs": [],
   "source": [
    "percent = round(100 * tweets['is_viral'].sum() / len(tweets), 1)\n",
    "print('Percent of tweets that is labeled viral: ' + str(percent) + '%')"
   ]
  },
  {
   "cell_type": "markdown",
   "metadata": {},
   "source": [
    "#### Making features"
   ]
  },
  {
   "cell_type": "code",
   "execution_count": null,
   "metadata": {},
   "outputs": [],
   "source": [
    "tweets['tweet_length'] = tweets['text'].str.len()\n",
    "tweets['followers_count'] = tweets['user'].str['followers_count']\n",
    "tweets['friends_count'] = tweets['user'].str['friends_count']\n",
    "tweets['links_count'] = tweets['text'].str.count('http')\n",
    "tweets['words_count'] = tweets['text'].str.split().str.len()\n",
    "tweets['average_word_length'] = tweets['text'].apply(lambda tweet: sum(len(word) for word in tweet.split()) / \n",
    "                                                      len(tweet.split()))\n",
    "tweets['capital_letters_count'] = tweets['text'].apply(lambda tweet: sum(1 for char in tweet if char.isupper()))\n",
    "tweets['!_count'] = tweets['text'].apply(lambda tweet: sum(1 for char in tweet if char == '!'))\n",
    "tweets['#_count'] = tweets['text'].apply(lambda tweet: sum(1 for char in tweet if char == '#'))\n",
    "tweets['@_count'] = tweets['text'].apply(lambda tweet: sum(1 for char in tweet if char == '@'))\n",
    "tweets['if_RT'] = tweets['text'].apply(lambda tweet: 1 if 'RT' in tweet else 0)\n",
    "\n",
    "list_of_features = ['tweet_length', 'followers_count', 'friends_count', 'links_count', 'words_count', \n",
    "                  'average_word_length', 'capital_letters_count', '!_count', '#_count', \n",
    "                 '@_count', 'if_RT', 'favorite_count']\n",
    "list_of_features_and_labels = list_of_features + ['is_viral', 'retweet_count']"
   ]
  },
  {
   "cell_type": "code",
   "execution_count": null,
   "metadata": {},
   "outputs": [],
   "source": [
    "tweets[list_of_features_and_labels].head(10)"
   ]
  },
  {
   "cell_type": "code",
   "execution_count": null,
   "metadata": {},
   "outputs": [],
   "source": [
    "tweets[list_of_features_and_labels].describe()"
   ]
  },
  {
   "cell_type": "code",
   "execution_count": null,
   "metadata": {},
   "outputs": [],
   "source": [
    "# Plot a heatmap to observe the correlation between the features and labels\n",
    "plt.figure(figsize=(14,12), dpi=200)\n",
    "sns.heatmap(tweets[list_of_features_and_labels].corr(), annot=True)"
   ]
  },
  {
   "cell_type": "markdown",
   "metadata": {},
   "source": [
    "#### Select features"
   ]
  },
  {
   "cell_type": "code",
   "execution_count": null,
   "metadata": {},
   "outputs": [],
   "source": [
    "# Select features that have stronger positive/negative correlation with 'is_viral' \n",
    "# That is, correlation greater than 0.1 or less than -0.1\n",
    "selected_features = ['tweet_length', 'words_count', 'if_RT', 'links_count']\n",
    "features = tweets[selected_features]\n",
    "features.sample(10) # Double check features"
   ]
  },
  {
   "cell_type": "code",
   "execution_count": null,
   "metadata": {},
   "outputs": [],
   "source": [
    "features.describe() # Double check features' summary statistics"
   ]
  },
  {
   "cell_type": "code",
   "execution_count": null,
   "metadata": {},
   "outputs": [],
   "source": [
    "tweets['is_viral'].value_counts() # Double check label"
   ]
  },
  {
   "cell_type": "markdown",
   "metadata": {},
   "source": [
    "#### Train model"
   ]
  },
  {
   "cell_type": "code",
   "execution_count": null,
   "metadata": {},
   "outputs": [],
   "source": [
    "# Split data into training (80%) and test sets (20%)\n",
    "from sklearn.model_selection import train_test_split\n",
    "\n",
    "X_train, X_test, y_train, y_test = train_test_split(features, tweets['is_viral'], test_size=0.2, random_state=1)"
   ]
  },
  {
   "cell_type": "code",
   "execution_count": null,
   "metadata": {},
   "outputs": [],
   "source": [
    "# Train logistic regression model\n",
    "from sklearn.linear_model import LogisticRegression\n",
    "\n",
    "log_reg = LogisticRegression()\n",
    "log_reg.fit(X_train, y_train)\n",
    "\n",
    "from sklearn.metrics import accuracy_score\n",
    "\n",
    "predictions = log_reg.predict(X_test)\n",
    "round(accuracy_score(y_test, predictions) * 100, 2) # Print model accuracy"
   ]
  },
  {
   "cell_type": "markdown",
   "metadata": {},
   "source": [
    "#### Trying out the model on sample tweets"
   ]
  },
  {
   "cell_type": "code",
   "execution_count": null,
   "metadata": {},
   "outputs": [],
   "source": [
    "# Function to extract features of a sample tweet to use to predict\n",
    "def new_sample_prediction(sample):\n",
    "    \n",
    "    feature_list = []\n",
    "    \n",
    "    # Extract feature attributes from sample tweet and append to feature_list\n",
    "    tweet_length = len(sample)\n",
    "    feature_list.append(tweet_length)\n",
    "    print(\"Tweet length: \" + str(tweet_length))\n",
    "    \n",
    "    words_count = len(sample.split())\n",
    "    feature_list.append(words_count)\n",
    "    print(\"Words count: \" + str(words_count))\n",
    "    \n",
    "    if 'RT' in sample:\n",
    "        feature_list.append(1)\n",
    "        print(\"Retweet: Yes\")\n",
    "    else:\n",
    "        feature_list.append(0)\n",
    "        print(\"Retweet: No\")\n",
    "    \n",
    "    links_count = sample.count('http')\n",
    "    feature_list.append(links_count)\n",
    "    print(\"Links count: \" + str(links_count))\n",
    "    \n",
    "    # Convert to array\n",
    "    feature_array = np.array(feature_list)\n",
    "    \n",
    "    # Make prediction with log_reg predict() method and print result\n",
    "    X_new = feature_array.reshape(1,-1)\n",
    "    y_predict = log_reg.predict(X_new)\n",
    "    if y_predict[0] == 1:\n",
    "        print(\"Prediction: Tweet will go viral\")\n",
    "    else:\n",
    "        print(\"Prediction: Tweet will not go viral\")"
   ]
  },
  {
   "cell_type": "code",
   "execution_count": null,
   "metadata": {},
   "outputs": [],
   "source": [
    "# Paste in sample tweet for prediction\n",
    "sample = 'Testing tweet RT http test test'\n",
    "\n",
    "# Predict if sample tweet goes viral\n",
    "new_sample_prediction(sample)"
   ]
  },
  {
   "cell_type": "code",
   "execution_count": null,
   "metadata": {},
   "outputs": [],
   "source": [
    "# Paste in sample tweet for prediction\n",
    "sample = '''\n",
    "Today, the Ingenuity Mars Helicopter achieved liftoff — becoming the first aircraft to fly on another planet. \n",
    "NASA proved once again that with relentless determination and the power of America’s best minds, anything is possible.\n",
    "'''\n",
    "\n",
    "# Predict if sample tweet goes viral\n",
    "new_sample_prediction(sample)"
   ]
  },
  {
   "cell_type": "code",
   "execution_count": null,
   "metadata": {},
   "outputs": [],
   "source": [
    "# Paste in sample tweet for prediction\n",
    "sample = '''\n",
    "\"The weirdest Olympics ever.\"\n",
    "The event was supposed to symbolize the best of humanity. But even as the cauldron is lit, the challenges for organizers \n",
    "and officials will only intensify. @julesaly looks at what it took to get the #TokyoOlympics to the starting line\n",
    "'''\n",
    "\n",
    "# Predict if sample tweet goes viral\n",
    "new_sample_prediction(sample)"
   ]
  },
  {
   "cell_type": "code",
   "execution_count": null,
   "metadata": {},
   "outputs": [],
   "source": []
  }
 ],
 "metadata": {
  "kernelspec": {
   "display_name": "Python 3",
   "language": "python",
   "name": "python3"
  },
  "language_info": {
   "codemirror_mode": {
    "name": "ipython",
    "version": 3
   },
   "file_extension": ".py",
   "mimetype": "text/x-python",
   "name": "python",
   "nbconvert_exporter": "python",
   "pygments_lexer": "ipython3",
   "version": "3.8.5"
  }
 },
 "nbformat": 4,
 "nbformat_minor": 4
}
